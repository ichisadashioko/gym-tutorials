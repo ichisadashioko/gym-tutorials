{
 "cells": [
  {
   "cell_type": "code",
   "execution_count": 1,
   "metadata": {},
   "outputs": [],
   "source": [
    "import time\n",
    "import random\n",
    "import math\n",
    "import itertools"
   ]
  },
  {
   "cell_type": "code",
   "execution_count": 2,
   "metadata": {},
   "outputs": [],
   "source": [
    "import numpy as np\n",
    "from tqdm import tqdm\n",
    "import matplotlib.pyplot as plt\n",
    "\n",
    "import gym\n",
    "from gym.envs.registration import register"
   ]
  },
  {
   "cell_type": "code",
   "execution_count": 3,
   "metadata": {},
   "outputs": [],
   "source": [
    "class QTable:\n",
    "    def __init__(self, num_states, num_actions, alpha=0.002, gamma=0.8):\n",
    "        \"\"\"\n",
    "        `alpha`: learning rate\n",
    "\n",
    "        `gamma`: discount factor\n",
    "        \"\"\"\n",
    "        self.num_states = num_states\n",
    "        self.num_actions = num_actions\n",
    "        self.alpha = alpha  # learning rate\n",
    "        self.gamma = gamma  # discount factor\n",
    "        # Initialize Q table with 0\n",
    "        self.q_table = np.zeros((num_states, num_actions), dtype=np.float)\n",
    "\n",
    "    def update_table(self, state, action, reward, new_state):\n",
    "        current_q_value = self.q_table[state, action]\n",
    "        target_q_value = reward + self.gamma * np.max(self.q_table[new_state])\n",
    "        delta = self.alpha * (target_q_value - current_q_value)\n",
    "        self.q_table[state, action] += delta\n",
    "\n",
    "    def get_next_action(self, state):\n",
    "        return np.argmax(self.q_table[state])"
   ]
  },
  {
   "cell_type": "markdown",
   "metadata": {},
   "source": [
    "### Register an un-slippery version of `FrozenLake`\n",
    "\n",
    "It's easier to get started with the un-slippery environment."
   ]
  },
  {
   "cell_type": "code",
   "execution_count": 4,
   "metadata": {},
   "outputs": [],
   "source": [
    "register(\n",
    "    id='FrozenLakeNotSlippery-v0',\n",
    "    entry_point='gym.envs.toy_text:FrozenLakeEnv',\n",
    "    kwargs={'map_name': '4x4', 'is_slippery': False},\n",
    ")"
   ]
  },
  {
   "cell_type": "code",
   "execution_count": 5,
   "metadata": {
    "scrolled": true
   },
   "outputs": [
    {
     "name": "stdout",
     "output_type": "stream",
     "text": [
      "\n",
      "SFFF\n",
      "FHFH\n",
      "FFFH\n",
      "HFFG\n"
     ]
    }
   ],
   "source": [
    "env_name = 'FrozenLakeNotSlippery-v0'\n",
    "# env_name = 'FrozenLake-v0'\n",
    "\n",
    "env = gym.make(env_name)\n",
    "env.render()"
   ]
  },
  {
   "cell_type": "code",
   "execution_count": 6,
   "metadata": {},
   "outputs": [],
   "source": [
    "#==========Create a q-table==========#\n",
    "num_states = env.observation_space.n\n",
    "num_actions = env.action_space.n\n",
    "q_table = QTable(num_states, num_actions)\n",
    "\n",
    "\n",
    "# set the percent you want to explore\n",
    "EPS_START = 1.0\n",
    "EPS_END = 0.2\n",
    "EPS_DECAY = 10_000"
   ]
  },
  {
   "cell_type": "markdown",
   "metadata": {},
   "source": [
    "Run this cell to train the agent (can be re-run multiple times)"
   ]
  },
  {
   "cell_type": "code",
   "execution_count": 15,
   "metadata": {
    "scrolled": true
   },
   "outputs": [
    {
     "name": "stderr",
     "output_type": "stream",
     "text": [
      "100%|███████████████████████████████████████████████████████████████████████| 100000/100000 [00:02<00:00, 39685.77it/s]\n"
     ]
    },
    {
     "data": {
      "text/plain": [
       "[<matplotlib.lines.Line2D at 0x220161ce9b0>]"
      ]
     },
     "execution_count": 15,
     "metadata": {},
     "output_type": "execute_result"
    },
    {
     "data": {
      "image/png": "[encoded data removed]",
      "text/plain": [
       "<Figure size 432x288 with 1 Axes>"
      ]
     },
     "metadata": {
      "needs_background": "light"
     },
     "output_type": "display_data"
    }
   ],
   "source": [
    "num_steps = 100_000\n",
    "reward_log = []\n",
    "\n",
    "state = env.reset()\n",
    "eps_reward = 0\n",
    "\n",
    "for step in tqdm(range(num_steps)):\n",
    "    #==========Taking action: Explore or Exploit==========#\n",
    "    sample = random.random()\n",
    "    eps_threshold = EPS_END + max(0, (EPS_START - EPS_END) * (EPS_DECAY - step) / EPS_DECAY)\n",
    "    if sample < eps_threshold:\n",
    "        # Explore: select a random action\n",
    "        action = random.randrange(num_actions)\n",
    "    else:\n",
    "        # Exploit: select the action with max value (future reward)\n",
    "        action = q_table.get_next_action(state)\n",
    "\n",
    "    next_state, reward, done, info = env.step(action)\n",
    "\n",
    "    #==========Updating the q-table==========#\n",
    "    q_table.update_table(state, action, reward, next_state)\n",
    "    eps_reward += reward\n",
    "    \n",
    "    if done:\n",
    "        state = env.reset()\n",
    "        reward_log.append(eps_reward)\n",
    "        eps_reward = 0\n",
    "    else:\n",
    "        state = next_state\n",
    "\n",
    "reward_log = np.array(reward_log)\n",
    "plt.plot(reward_log)\n",
    "# x = np.array(list(range(len(reward_log))))\n",
    "# plt.plot(x, reward_log, 'ro')"
   ]
  },
  {
   "cell_type": "markdown",
   "metadata": {},
   "source": [
    "## Test Q-table (the `agent`)"
   ]
  },
  {
   "cell_type": "code",
   "execution_count": 16,
   "metadata": {
    "scrolled": false
   },
   "outputs": [
    {
     "data": {
      "text/plain": [
       "array([[2.61826369e-01, 3.27680000e-01, 2.06537183e-01, 2.61807970e-01],\n",
       "       [2.61301369e-01, 0.00000000e+00, 2.18695708e-02, 1.01698434e-01],\n",
       "       [8.65137214e-02, 1.43295522e-02, 2.96774698e-04, 6.83963139e-03],\n",
       "       [4.52428355e-03, 0.00000000e+00, 1.08934368e-04, 9.95422157e-05],\n",
       "       [3.26523772e-01, 4.09600000e-01, 0.00000000e+00, 2.61213771e-01],\n",
       "       [0.00000000e+00, 0.00000000e+00, 0.00000000e+00, 0.00000000e+00],\n",
       "       [0.00000000e+00, 2.13942399e-01, 0.00000000e+00, 2.87874095e-03],\n",
       "       [0.00000000e+00, 0.00000000e+00, 0.00000000e+00, 0.00000000e+00],\n",
       "       [4.07248607e-01, 0.00000000e+00, 5.12000000e-01, 3.25624257e-01],\n",
       "       [4.04273255e-01, 6.40000000e-01, 6.22488160e-01, 0.00000000e+00],\n",
       "       [2.16244815e-01, 7.99582916e-01, 0.00000000e+00, 3.57840904e-02],\n",
       "       [0.00000000e+00, 0.00000000e+00, 0.00000000e+00, 0.00000000e+00],\n",
       "       [0.00000000e+00, 0.00000000e+00, 0.00000000e+00, 0.00000000e+00],\n",
       "       [0.00000000e+00, 6.29386818e-01, 8.00000000e-01, 5.03717831e-01],\n",
       "       [6.29404565e-01, 7.88157040e-01, 1.00000000e+00, 6.20334023e-01],\n",
       "       [0.00000000e+00, 0.00000000e+00, 0.00000000e+00, 0.00000000e+00]])"
      ]
     },
     "execution_count": 16,
     "metadata": {},
     "output_type": "execute_result"
    }
   ],
   "source": [
    "q_table.q_table"
   ]
  },
  {
   "cell_type": "code",
   "execution_count": 17,
   "metadata": {
    "scrolled": true
   },
   "outputs": [
    {
     "data": {
      "text/plain": [
       "<matplotlib.colorbar.Colorbar at 0x22016269b00>"
      ]
     },
     "execution_count": 17,
     "metadata": {},
     "output_type": "execute_result"
    },
    {
     "data": {
      "image/png": "[encoded data removed]",
      "text/plain": [
       "<Figure size 432x288 with 2 Axes>"
      ]
     },
     "metadata": {
      "needs_background": "light"
     },
     "output_type": "display_data"
    }
   ],
   "source": [
    "plt.imshow(q_table.q_table)\n",
    "plt.colorbar()"
   ]
  },
  {
   "cell_type": "markdown",
   "metadata": {},
   "source": [
    "## Visualize our agent grid world"
   ]
  },
  {
   "cell_type": "code",
   "execution_count": 18,
   "metadata": {},
   "outputs": [
    {
     "data": {
      "image/png": "[encoded data removed]",
      "text/plain": [
       "<Figure size 432x288 with 1 Axes>"
      ]
     },
     "metadata": {
      "needs_background": "light"
     },
     "output_type": "display_data"
    }
   ],
   "source": [
    "# number of rows and cols of the world\n",
    "rows = 4\n",
    "cols = 4\n",
    "\n",
    "# each cell has a square 3x3 to store up, down, left and right\n",
    "# so that we can visualize which action the agent is going to take\n",
    "display_grid = np.zeros((rows * 3, cols * 3), dtype=np.float32)\n",
    "for row in range(rows):\n",
    "    for col in range(cols):\n",
    "        state = row * rows + col\n",
    "        grid_cell = np.zeros((3, 3), dtype=np.float32)\n",
    "        # left\n",
    "        grid_cell[1, 0] = q_table.q_table[state][0]\n",
    "        # down\n",
    "        grid_cell[2, 1] = q_table.q_table[state][1]\n",
    "        # right\n",
    "        grid_cell[1, 2] = q_table.q_table[state][2]\n",
    "        # top\n",
    "        grid_cell[0, 1] = q_table.q_table[state][3]\n",
    "        \n",
    "        display_grid[\n",
    "            row * 3: (row+1) * 3,\n",
    "            col * 3: (col+1) * 3\n",
    "        ] = grid_cell\n",
    "\n",
    "# add grid overlay to our plot\n",
    "# https://stackoverflow.com/a/24953575/8364403\n",
    "fig = plt.figure()\n",
    "ax = fig.add_subplot(1, 1, 1)\n",
    "ax.imshow(display_grid, cmap='viridis')\n",
    "\n",
    "# major_ticks = np.arange(0, 12+1, 3)\n",
    "# minor_ticks = np.arange(0, 12+1, 1)\n",
    "major_ticks = np.arange(-0.5, 12, 3)\n",
    "minor_ticks = np.arange(-0.5, 12, 1)\n",
    "\n",
    "ax.set_xticks(major_ticks)\n",
    "ax.set_xticks(minor_ticks, minor=True)\n",
    "ax.set_yticks(major_ticks)\n",
    "ax.set_yticks(minor_ticks, minor=True)\n",
    "\n",
    "ax.grid(which='minor', alpha=0.2)\n",
    "ax.grid(which='major', alpha=0.7)"
   ]
  },
  {
   "cell_type": "code",
   "execution_count": 28,
   "metadata": {},
   "outputs": [
    {
     "name": "stdout",
     "output_type": "stream",
     "text": [
      "\n",
      "SFFF\n",
      "FHFH\n",
      "FFFH\n",
      "HFFG\n"
     ]
    }
   ],
   "source": [
    "state = env.reset()\n",
    "env.render()"
   ]
  },
  {
   "cell_type": "markdown",
   "metadata": {},
   "source": [
    "Run this `cell` repeatedly to see how the agent does in the environment."
   ]
  },
  {
   "cell_type": "code",
   "execution_count": 34,
   "metadata": {},
   "outputs": [
    {
     "name": "stdout",
     "output_type": "stream",
     "text": [
      "(15, 1.0, True, {'prob': 1.0})\n",
      "  (Right)\n",
      "SFFF\n",
      "FHFH\n",
      "FFFH\n",
      "HFFG\n"
     ]
    }
   ],
   "source": [
    "obs = env.step(q_table.get_next_action(state))\n",
    "print(obs)\n",
    "\n",
    "new_state, reward, done, info = obs\n",
    "state = new_state\n",
    "env.render()"
   ]
  }
 ],
 "metadata": {
  "kernelspec": {
   "display_name": "gym-env",
   "language": "python",
   "name": "gym-env"
  },
  "language_info": {
   "codemirror_mode": {
    "name": "ipython",
    "version": 3
   },
   "file_extension": ".py",
   "mimetype": "text/x-python",
   "name": "python",
   "nbconvert_exporter": "python",
   "pygments_lexer": "ipython3",
   "version": "3.7.3"
  }
 },
 "nbformat": 4,
 "nbformat_minor": 2
}
